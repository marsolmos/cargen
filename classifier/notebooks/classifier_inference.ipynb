{
 "cells": [
  {
   "cell_type": "code",
   "execution_count": null,
   "id": "aa9d43fd",
   "metadata": {},
   "outputs": [],
   "source": [
    "import os\n",
    "import numpy as np\n",
    "\n",
    "import cv2\n",
    "import tensorflow as tf\n",
    "from tensorflow.keras.models import load_model\n",
    "from tensorflow.keras.preprocessing.image import ImageDataGenerator\n",
    "from tensorflow.keras.preprocessing import image"
   ]
  },
  {
   "cell_type": "code",
   "execution_count": null,
   "id": "fdde22c8",
   "metadata": {},
   "outputs": [],
   "source": [
    "MODEL_NAME = 'CarClass-3'\n",
    "base_dir = \"D:/Data Warehouse/thecarconnection/pictures\"\n",
    "count = 0\n",
    "confidence_treshold = 0.7"
   ]
  },
  {
   "cell_type": "code",
   "execution_count": null,
   "id": "5be51c50",
   "metadata": {},
   "outputs": [],
   "source": [
    "# %%\n",
    "# Load Saved Model\n",
    "# ~~~~~~~~~~~~~~~~~~~~~~~~~\n",
    "load_name = 'models/{}'.format(MODEL_NAME)\n",
    "model = tf.keras.models.load_model(load_name)\n",
    "model.summary()\n",
    "\n",
    "print('We have loaded a previous model!!!!')"
   ]
  },
  {
   "cell_type": "code",
   "execution_count": null,
   "id": "93020c1a",
   "metadata": {},
   "outputs": [],
   "source": [
    "def save_image(image, base_dir, category):\n",
    "    '''\n",
    "    Save input image in category folder inside base_dir\n",
    "    '''\n",
    "    destination_dir = os.path.join(base_dir, category)\n",
    "    if os.path.isdir(destination_dir):\n",
    "        pass\n",
    "    else:\n",
    "        os.makedirs(os.path.join(base_dir, category))\n",
    "\n",
    "    original_file_path = os.path.join(base_dir, image)\n",
    "    destination_file_path = os.path.join(destination_dir, image)\n",
    "    os.replace(original_file_path, destination_file_path)\n",
    "\n",
    "    return"
   ]
  },
  {
   "cell_type": "code",
   "execution_count": null,
   "id": "8fcc3975",
   "metadata": {},
   "outputs": [],
   "source": [
    "for file in os.listdir(base_dir):\n",
    "    img_path = os.path.join(base_dir, file)\n",
    "    if os.path.isdir(img_path):\n",
    "        # skip directories\n",
    "        continue\n",
    "    else:\n",
    "        im = image.load_img(img_path, target_size=(150, 150), color_mode=\"rgb\")\n",
    "        im = image.img_to_array(im)\n",
    "        im = im / 255.0\n",
    "        im = np.expand_dims(im, axis=0)\n",
    "        count += 1\n",
    "\n",
    "        # %%\n",
    "        # Predict to which category belongs each image\n",
    "        # ~~~~~~~~~~~~~~~~~~~~~~~~~\n",
    "        prediction = model.predict(im)\n",
    "        category = tf.argmax(prediction, 1)[0]\n",
    "        confidence = np.amax(prediction)\n",
    "        if count == 1 or count % 100 == 0:\n",
    "            remaining = len(os.listdir(base_dir))\n",
    "\n",
    "        # Save images into folders depending on their category\n",
    "        print('\\ncategory: {}, confidence: {}, remaining: {}'.format(category, confidence, remaining))\n",
    "        if confidence >= confidence_treshold:\n",
    "            if category == 0:\n",
    "                save_image(file, base_dir, 'front')\n",
    "            elif category == 1:\n",
    "                save_image(file, base_dir, 'front_left')\n",
    "            elif category == 2:\n",
    "                save_image(file, base_dir, 'front_right')\n",
    "            elif category == 3:\n",
    "                save_image(file, base_dir, 'left')\n",
    "            elif category == 4:\n",
    "                save_image(file, base_dir, 'other')\n",
    "            elif category == 5:\n",
    "                save_image(file, base_dir, 'rear')\n",
    "            elif category == 6:\n",
    "                save_image(file, base_dir, 'rear_left')\n",
    "            elif category == 7:\n",
    "                save_image(file, base_dir, 'rear_right')\n",
    "            elif category == 8:\n",
    "                save_image(file, base_dir, 'right')\n",
    "        else:\n",
    "            save_image(file, base_dir, 'unknown')"
   ]
  }
 ],
 "metadata": {
  "kernelspec": {
   "display_name": "Python 3",
   "language": "python",
   "name": "python3"
  },
  "language_info": {
   "codemirror_mode": {
    "name": "ipython",
    "version": 3
   },
   "file_extension": ".py",
   "mimetype": "text/x-python",
   "name": "python",
   "nbconvert_exporter": "python",
   "pygments_lexer": "ipython3",
   "version": "3.7.6"
  }
 },
 "nbformat": 4,
 "nbformat_minor": 5
}
