{
 "cells": [
  {
   "cell_type": "markdown",
   "id": "ca90d14b",
   "metadata": {},
   "source": [
    "# Install dependencies"
   ]
  },
  {
   "cell_type": "code",
   "execution_count": 1,
   "id": "1018c20c",
   "metadata": {},
   "outputs": [],
   "source": [
    "# example of a wgan for generating handwritten digits\n",
    "from numpy import expand_dims\n",
    "from numpy import mean\n",
    "from numpy import ones\n",
    "from numpy.random import randn\n",
    "from numpy.random import randint\n",
    "import tensorflow as tf\n",
    "from tensorflow.keras.datasets.mnist import load_data\n",
    "from tensorflow.keras import backend\n",
    "from tensorflow.keras.optimizers import RMSprop\n",
    "from tensorflow.keras.models import Sequential\n",
    "from tensorflow.keras.layers import Dense\n",
    "from tensorflow.keras.layers import Reshape\n",
    "from tensorflow.keras.layers import Flatten\n",
    "from tensorflow.keras.layers import Conv2D\n",
    "from tensorflow.keras.layers import Conv2DTranspose\n",
    "from tensorflow.keras.layers import LeakyReLU\n",
    "from tensorflow.keras.layers import BatchNormalization\n",
    "from tensorflow.keras.initializers import RandomNormal\n",
    "from tensorflow.keras.constraints import Constraint\n",
    "import matplotlib.pyplot as plt "
   ]
  },
  {
   "cell_type": "markdown",
   "id": "fb4824c2",
   "metadata": {},
   "source": [
    "# Function Definitions"
   ]
  },
  {
   "cell_type": "code",
   "execution_count": 2,
   "id": "7e140b5b",
   "metadata": {},
   "outputs": [],
   "source": [
    "# load images\n",
    "def load_real_samples():\n",
    "    # load dataset\n",
    "    (trainX, trainy), (_, _) = load_data()\n",
    "    # select all of the examples for a given class\n",
    "    selected_ix = trainy == 7\n",
    "    X = trainX[selected_ix]\n",
    "    # expand to 3d, e.g. add channels\n",
    "    X = expand_dims(X, axis=-1)\n",
    "    # convert from ints to floats\n",
    "    X = X.astype('float32')\n",
    "    # scale from [0,255] to [-1,1]\n",
    "    X = (X - 127.5) / 127.5\n",
    "    return X"
   ]
  },
  {
   "cell_type": "markdown",
   "id": "dfd2ff44",
   "metadata": {},
   "source": [
    "# Code MNIST"
   ]
  },
  {
   "cell_type": "code",
   "execution_count": 3,
   "id": "d94a6c0b",
   "metadata": {},
   "outputs": [
    {
     "name": "stdout",
     "output_type": "stream",
     "text": [
      "Expected shape: (6265, 28, 28, 1)\n"
     ]
    }
   ],
   "source": [
    "dataset = load_real_samples()\n",
    "print('Expected shape: {}'.format(dataset.shape))"
   ]
  },
  {
   "cell_type": "markdown",
   "id": "ce436c3a",
   "metadata": {},
   "source": [
    "# Code TCCD"
   ]
  },
  {
   "cell_type": "code",
   "execution_count": 4,
   "id": "63a8f86f",
   "metadata": {},
   "outputs": [],
   "source": [
    "from tensorflow.keras.preprocessing import image\n",
    "import numpy as np\n",
    "import os\n",
    "import cv2"
   ]
  },
  {
   "cell_type": "code",
   "execution_count": 5,
   "id": "fe1b5e58",
   "metadata": {},
   "outputs": [],
   "source": [
    "# Images path\n",
    "base_dir = \"D:/Data Warehouse/thecarconnection/pictures\"\n",
    "category = \"front\"\n",
    "cat_dir = os.path.join(base_dir, category)"
   ]
  },
  {
   "cell_type": "markdown",
   "id": "6c6cde18",
   "metadata": {},
   "source": [
    "# RAW -- 3"
   ]
  },
  {
   "cell_type": "code",
   "execution_count": 6,
   "id": "646c622d",
   "metadata": {
    "scrolled": false
   },
   "outputs": [
    {
     "name": "stdout",
     "output_type": "stream",
     "text": [
      "(50, 224, 224, 1)\n"
     ]
    }
   ],
   "source": [
    "def load_real_samples(base_dir, category):\n",
    "    '''\n",
    "    Load real samples from category directory and preprocess them in the way the network expects them\n",
    "    \n",
    "    ## ARGS ##\n",
    "    base_dir[str]: path to base directory where all images are saved into one folder per category\n",
    "    categroy[str]: name of the folder with the images belonging to the category which we want to\n",
    "                   use to train the system\n",
    "   \n",
    "    return[np.array]: array with images loaded and preprocessed. Expected output shape will be\n",
    "                      (n_samples, width, heigth, channels). As images will be loaded as grayscale,\n",
    "                      channels will always be equal to 1.\n",
    "    '''\n",
    "    # Categories directory where to find images to generate the dataset\n",
    "    cat_dir = os.path.join(base_dir, category)\n",
    "    # Iterate for all images\n",
    "    imlist = []\n",
    "    for file in os.listdir(cat_dir):\n",
    "        img_path = os.path.join(cat_dir, file)\n",
    "        if os.path.isdir(img_path):\n",
    "            # Skip directories\n",
    "            continue\n",
    "        else:\n",
    "            # Load image into grayscale\n",
    "            im = image.load_img(img_path, target_size=(224, 224), color_mode=\"grayscale\")\n",
    "            # Convert image into array\n",
    "            im = image.img_to_array(im)\n",
    "            # Convert from ints to floats\n",
    "            im = im.astype('float32')\n",
    "            # Scale from [0,255] to [-1,1]\n",
    "            im = (im - 127.5) / 127.5\n",
    "            # Include into dataset\n",
    "            imlist.append(im)\n",
    "    # Generate dataset with all images in numpy.array format\n",
    "    dataset = np.array(imlist)\n",
    "    \n",
    "    return dataset"
   ]
  }
 ],
 "metadata": {
  "kernelspec": {
   "display_name": "Python 3",
   "language": "python",
   "name": "python3"
  },
  "language_info": {
   "codemirror_mode": {
    "name": "ipython",
    "version": 3
   },
   "file_extension": ".py",
   "mimetype": "text/x-python",
   "name": "python",
   "nbconvert_exporter": "python",
   "pygments_lexer": "ipython3",
   "version": "3.7.6"
  }
 },
 "nbformat": 4,
 "nbformat_minor": 5
}
